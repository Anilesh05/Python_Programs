{
 "cells": [
  {
   "cell_type": "code",
   "execution_count": null,
   "id": "a6cf22e0",
   "metadata": {},
   "outputs": [],
   "source": [
    "num=int(input(\"Enter the number:\"))\n",
    "\n",
    "print(\"Dislay all the prime number between 1 to \",num,\":\",\"\\n\")\n",
    "\n",
    "for i in range(1,num+1):\n",
    "    if i>0:\n",
    "        for j in range(2,i):\n",
    "            if(i%j)==0:\n",
    "                break\n",
    "        else:\n",
    "            print(i)"
   ]
  }
 ],
 "metadata": {
  "kernelspec": {
   "display_name": "Python 3 (ipykernel)",
   "language": "python",
   "name": "python3"
  },
  "language_info": {
   "codemirror_mode": {
    "name": "ipython",
    "version": 3
   },
   "file_extension": ".py",
   "mimetype": "text/x-python",
   "name": "python",
   "nbconvert_exporter": "python",
   "pygments_lexer": "ipython3",
   "version": "3.11.5"
  }
 },
 "nbformat": 4,
 "nbformat_minor": 5
}
