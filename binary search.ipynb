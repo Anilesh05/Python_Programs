{
 "cells": [
  {
   "cell_type": "code",
   "execution_count": null,
   "id": "a15fb4cb",
   "metadata": {},
   "outputs": [],
   "source": [
    "def binarysearch(arr, x):\n",
    "    first_position = 0\n",
    "    last_position = len(arr) - 1\n",
    "    flag = 0\n",
    "    count = 0\n",
    "    \n",
    "    while first_position <= last_position and flag == 0:\n",
    "        count += 1\n",
    "        mid = (first_position + last_position) // 2\n",
    "        \n",
    "        if x == arr[mid]:\n",
    "            flag = 1\n",
    "            print(\"The Target value found at index: \" + str(mid))\n",
    "            print(\"Number of iterations it took to find the target value: \" + str(count))\n",
    "            return\n",
    "        elif x < arr[mid]:\n",
    "            last_position = mid - 1\n",
    "        else:\n",
    "            first_position = mid + 1\n",
    "            \n",
    "    print(\"The Target value not found\")\n",
    "\n",
    "arr = []\n",
    "for i in range(1, 501):\n",
    "    arr.append(i)\n",
    "\n",
    "binarysearch(arr, 75)\n"
   ]
  }
 ],
 "metadata": {
  "kernelspec": {
   "display_name": "Python 3 (ipykernel)",
   "language": "python",
   "name": "python3"
  },
  "language_info": {
   "codemirror_mode": {
    "name": "ipython",
    "version": 3
   },
   "file_extension": ".py",
   "mimetype": "text/x-python",
   "name": "python",
   "nbconvert_exporter": "python",
   "pygments_lexer": "ipython3",
   "version": "3.11.5"
  }
 },
 "nbformat": 4,
 "nbformat_minor": 5
}
