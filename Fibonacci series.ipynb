{
 "cells": [
  {
   "cell_type": "code",
   "execution_count": null,
   "id": "91478756",
   "metadata": {},
   "outputs": [],
   "source": [
    "num=int(input(\"Enter the value of series : \"))\n",
    "a=0\n",
    "b=1\n",
    "\n",
    "print(\"Fibonacci first \",num,\"series is \",a,b,end=' ')\n",
    "for i in range(2,num):\n",
    "    num=a+b\n",
    "    a=b\n",
    "    b=num\n",
    "    print(num,end=' ')"
   ]
  }
 ],
 "metadata": {
  "kernelspec": {
   "display_name": "Python 3 (ipykernel)",
   "language": "python",
   "name": "python3"
  },
  "language_info": {
   "codemirror_mode": {
    "name": "ipython",
    "version": 3
   },
   "file_extension": ".py",
   "mimetype": "text/x-python",
   "name": "python",
   "nbconvert_exporter": "python",
   "pygments_lexer": "ipython3",
   "version": "3.11.5"
  }
 },
 "nbformat": 4,
 "nbformat_minor": 5
}
