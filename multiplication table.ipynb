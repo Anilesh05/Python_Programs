{
 "cells": [
  {
   "cell_type": "code",
   "execution_count": null,
   "id": "3b661790",
   "metadata": {},
   "outputs": [],
   "source": [
    "table=int(input(\"Which table you want : \"))\n",
    "num=int(input(\"how many number of table : \"))\n",
    "\n",
    "for i in range(1,num+1):\n",
    "    print(table,\"x\",i,\"=\",i*table)"
   ]
  }
 ],
 "metadata": {
  "kernelspec": {
   "display_name": "Python 3 (ipykernel)",
   "language": "python",
   "name": "python3"
  },
  "language_info": {
   "codemirror_mode": {
    "name": "ipython",
    "version": 3
   },
   "file_extension": ".py",
   "mimetype": "text/x-python",
   "name": "python",
   "nbconvert_exporter": "python",
   "pygments_lexer": "ipython3",
   "version": "3.11.5"
  }
 },
 "nbformat": 4,
 "nbformat_minor": 5
}
