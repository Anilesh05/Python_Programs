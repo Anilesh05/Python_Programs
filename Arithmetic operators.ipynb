{
 "cells": [
  {
   "cell_type": "code",
   "execution_count": null,
   "id": "fff3d8c1",
   "metadata": {},
   "outputs": [],
   "source": [
    "print(\"Calculator Menu :-\")\n",
    "print(\"1. Addition\")\n",
    "print(\"2. Subtraction\")\n",
    "print(\"3. Multiplication\")\n",
    "print(\"4. Division\")\n",
    "print(\"5. Floor Division\")\n",
    "print(\"6. Exit\")\n",
    "\n",
    "while True: \n",
    "    choice = int(input(\"\\nEnter your choice: \"))\n",
    "    \n",
    "    if choice == 1:\n",
    "        num1 = int(input(\"Enter num1: \"))\n",
    "        num2 = int(input(\"Enter num2: \"))\n",
    "        print(\"The addition of two numbers:\", num1 + num2)\n",
    "\n",
    "    elif choice == 2:\n",
    "        num1 = int(input(\"Enter num1: \"))\n",
    "        num2 = int(input(\"Enter num2: \"))\n",
    "        print(\"The subtraction of two numbers:\", num1 - num2)\n",
    "\n",
    "    elif choice == 3:\n",
    "        num1 = int(input(\"Enter num1: \"))\n",
    "        num2 = int(input(\"Enter num2: \"))\n",
    "        print(\"The multiplication of two numbers:\", num1 * num2)\n",
    "\n",
    "    elif choice == 4:\n",
    "        num1 = int(input(\"Enter num1: \"))\n",
    "        num2 = int(input(\"Enter num2: \"))\n",
    "        print(\"The division of two numbers:\", num1 / num2)\n",
    "        \n",
    "    elif choice == 5:\n",
    "        num1 = int(input(\"Enter num1: \"))\n",
    "        num2 = int(input(\"Enter num2: \"))\n",
    "        print(\"The floor division of two numbers:\", num1 // num2)\n",
    "    \n",
    "    elif choice == 6:\n",
    "        print(\"Exiting...\")\n",
    "        break\n",
    "\n",
    "    else:\n",
    "        print(\"Invalid choice\")\n"
   ]
  }
 ],
 "metadata": {
  "kernelspec": {
   "display_name": "Python 3 (ipykernel)",
   "language": "python",
   "name": "python3"
  },
  "language_info": {
   "codemirror_mode": {
    "name": "ipython",
    "version": 3
   },
   "file_extension": ".py",
   "mimetype": "text/x-python",
   "name": "python",
   "nbconvert_exporter": "python",
   "pygments_lexer": "ipython3",
   "version": "3.11.5"
  }
 },
 "nbformat": 4,
 "nbformat_minor": 5
}
