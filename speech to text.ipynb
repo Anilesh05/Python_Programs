{
 "cells": [
  {
   "cell_type": "code",
   "execution_count": null,
   "id": "de74aa25",
   "metadata": {},
   "outputs": [],
   "source": [
    "import speech_recognition as sr\n",
    "AUDIO_FILE = (\"SpeechText.wav\")\n",
    "\n",
    "#use audio file as source\n",
    "\n",
    "r=sr.Recognizer()\n",
    "with sr.AudioFile(AUDIO_FILE) as source:\n",
    "    audio=r.record(source)\n",
    "    \n",
    "#reads the audio file\n",
    "try:\n",
    "    print(\"audio file contains :\" +r.recognize_google(audio))\n",
    "except sr.UnknownValueError:\n",
    "    print (\" Google Speech Recognition not understood the file uploaded\")\n",
    "except sr.RequestError:\n",
    "    print (\"Couldn't get the result from Google Recognition\") "
   ]
  }
 ],
 "metadata": {
  "kernelspec": {
   "display_name": "Python 3 (ipykernel)",
   "language": "python",
   "name": "python3"
  },
  "language_info": {
   "codemirror_mode": {
    "name": "ipython",
    "version": 3
   },
   "file_extension": ".py",
   "mimetype": "text/x-python",
   "name": "python",
   "nbconvert_exporter": "python",
   "pygments_lexer": "ipython3",
   "version": "3.11.5"
  }
 },
 "nbformat": 4,
 "nbformat_minor": 5
}
