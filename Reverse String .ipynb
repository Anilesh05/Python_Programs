{
 "cells": [
  {
   "cell_type": "code",
   "execution_count": null,
   "id": "56a38660",
   "metadata": {},
   "outputs": [],
   "source": [
    "string=input(\"Enter the Original String : \")\n",
    "string2=' '\n",
    "i=len(string)-1\n",
    "\n",
    "print(\"Reverse string : \",end='')\n",
    "while(i>=0):\n",
    "    string2=string2+string[i]\n",
    "    i=i-1\n",
    "print(string2)"
   ]
  }
 ],
 "metadata": {
  "kernelspec": {
   "display_name": "Python 3 (ipykernel)",
   "language": "python",
   "name": "python3"
  },
  "language_info": {
   "codemirror_mode": {
    "name": "ipython",
    "version": 3
   },
   "file_extension": ".py",
   "mimetype": "text/x-python",
   "name": "python",
   "nbconvert_exporter": "python",
   "pygments_lexer": "ipython3",
   "version": "3.11.5"
  }
 },
 "nbformat": 4,
 "nbformat_minor": 5
}
