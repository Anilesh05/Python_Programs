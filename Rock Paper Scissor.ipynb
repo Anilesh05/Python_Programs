{
 "cells": [
  {
   "cell_type": "code",
   "execution_count": null,
   "id": "b75c5ea4",
   "metadata": {},
   "outputs": [],
   "source": [
    "def rock_paper_scissor(num1, num2, bit1, bit2):\n",
    "    p1 = int(num1[bit1]) % 3\n",
    "    p2 = int(num2[bit2]) % 3\n",
    "    if player_one[p1] == player_two[p2]:\n",
    "        print(\"Draw\")\n",
    "    elif player_one[p1] == \"ROCK\" and player_two[p2] == \"SCISSOR\":\n",
    "        print(\"Player one Wins!!\")\n",
    "    elif player_one[p1] == \"ROCK\" and player_two[p2] == \"PAPER\":\n",
    "        print(\"Player two Wins!!\")\n",
    "    elif player_one[p1] == \"PAPER\" and player_two[p2] == \"SCISSOR\":\n",
    "        print(\"Player two Wins!!\")\n",
    "    elif player_one[p1] == \"PAPER\" and player_two[p2] == \"ROCK\":\n",
    "        print(\"Player one Wins!!\")\n",
    "    elif player_one[p1] == \"SCISSOR\" and player_two[p2] == \"ROCK\":\n",
    "        print(\"Player two Wins!!\")\n",
    "    elif player_one[p1] == \"SCISSOR\" and player_two[p2] == \"PAPER\":\n",
    "        print(\"Player one Wins!!\")\n",
    "\n",
    "player_one = {0: 'ROCK', 1: 'PAPER', 2: 'SCISSOR'}\n",
    "player_two = {0: 'PAPER', 1: 'ROCK', 2: 'SCISSOR'}\n",
    "\n",
    "while True:\n",
    "    num1 = input(\"Player one, Enter your Choice: \")\n",
    "    num2 = input(\"Player two, Enter your Choice: \")\n",
    "    bit1 = int(input(\"Player one, Enter your secret bit: \"))\n",
    "    bit2 = int(input(\"Player two, Enter your secret bit: \"))\n",
    "    rock_paper_scissor(num1, num2, bit1, bit2)\n",
    "    ch = input(\"Do you want to continue? y/n: \")\n",
    "    if ch == 'n':\n",
    "        break"
   ]
  }
 ],
 "metadata": {
  "kernelspec": {
   "display_name": "Python 3 (ipykernel)",
   "language": "python",
   "name": "python3"
  },
  "language_info": {
   "codemirror_mode": {
    "name": "ipython",
    "version": 3
   },
   "file_extension": ".py",
   "mimetype": "text/x-python",
   "name": "python",
   "nbconvert_exporter": "python",
   "pygments_lexer": "ipython3",
   "version": "3.11.5"
  }
 },
 "nbformat": 4,
 "nbformat_minor": 5
}
